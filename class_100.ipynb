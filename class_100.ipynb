{
  "nbformat": 4,
  "nbformat_minor": 0,
  "metadata": {
    "colab": {
      "name": "class 100.ipynb",
      "provenance": [],
      "collapsed_sections": [],
      "authorship_tag": "ABX9TyOQqteML0ucf5XjjI/jzYDB",
      "include_colab_link": true
    },
    "kernelspec": {
      "name": "python3",
      "display_name": "Python 3"
    },
    "language_info": {
      "name": "python"
    }
  },
  "cells": [
    {
      "cell_type": "markdown",
      "metadata": {
        "id": "view-in-github",
        "colab_type": "text"
      },
      "source": [
        "<a href=\"https://colab.research.google.com/github/Shrey156/Pro-100/blob/main/class_100.ipynb\" target=\"_parent\"><img src=\"https://colab.research.google.com/assets/colab-badge.svg\" alt=\"Open In Colab\"/></a>"
      ]
    },
    {
      "cell_type": "code",
      "execution_count": null,
      "metadata": {
        "colab": {
          "base_uri": "https://localhost:8080/"
        },
        "id": "5lz1D_aJhy-0",
        "outputId": "c1906436-1abb-402c-dfbe-1d2a20b605e7"
      },
      "outputs": [
        {
          "output_type": "stream",
          "name": "stdout",
          "text": [
            "{'name': 'shrey', 'city': 'surat', 'number': 887823789, 'class': 10}\n"
          ]
        },
        {
          "output_type": "execute_result",
          "data": {
            "text/plain": [
              "dict"
            ]
          },
          "metadata": {},
          "execution_count": 4
        }
      ],
      "source": [
        "student = {\n",
        "    \"name\":\"shrey\",\n",
        "    \"city\":\"surat\",\n",
        "    \"number\":887823789,\n",
        "    \"class\":10,\n",
        "}\n",
        "\n",
        "print(student)\n",
        "type(student)"
      ]
    },
    {
      "cell_type": "code",
      "source": [
        "class Student_class:\n",
        "  #class Student_class(object):\n",
        "  def __init__(self):\n",
        "    self.name=\"shrey\"\n",
        "    self.classes=10\n",
        "    self.city=\"surat\" \n",
        "    self.number=9383098029\n",
        "  def func(self):\n",
        "    pass"
      ],
      "metadata": {
        "id": "DoY8FVdylnP6"
      },
      "execution_count": null,
      "outputs": []
    },
    {
      "cell_type": "code",
      "source": [
        "class Car_blueprint:\n",
        "  def __init__(self,color,wheel,headlight,brand,speed):\n",
        "    self.color = color\n",
        "    self.wheel = wheel\n",
        "    self.headlight = headlight\n",
        "    self.brand = brand\n",
        "    self.speed = speed\n",
        "    \n",
        "  def inreasing_speed(self,increases_speed):\n",
        "    self.speed += increases_speed\n",
        "    print(\"maximum speed of the car is :\",str(self.speed))\n",
        "\n",
        "def main():\n",
        "  racing_car = Car_blueprint(\"red\",\"MRF\",\"white_headlight\",\"lamborgini\",220)\n",
        "  racing_car.inreasing_speed(80)\n",
        "main()"
      ],
      "metadata": {
        "colab": {
          "base_uri": "https://localhost:8080/"
        },
        "id": "s-mq8s1wqaGJ",
        "outputId": "55b463cc-026d-4f14-d058-2982bfc80a6a"
      },
      "execution_count": null,
      "outputs": [
        {
          "output_type": "stream",
          "name": "stdout",
          "text": [
            "maximum speed of the car is : 300\n"
          ]
        }
      ]
    },
    {
      "cell_type": "code",
      "source": [
        "class Car_blueprint:\n",
        "  def __init__(self,color,wheel,brand,speed):\n",
        "    self.color = color\n",
        "    self.wheel = wheel\n",
        "    self.brand = brand\n",
        "    self.speed = speed\n",
        "    self.car = {\n",
        "        \"color\":self.color,\n",
        "        \"wheel\":self.wheel,\n",
        "        \"brand\":self.barnd,\n",
        "        \"speed\":self.speed,\n",
        "    }\n",
        "  \n",
        "  def add_details(self,car_lists):\n",
        "    car_lists.append(self.car)\n",
        "\n",
        "  def view_readings(self,car_lists):\n",
        "    print(car_lists)\n",
        "    \n",
        "  def inreasing_speed(self,increases_speed):\n",
        "    self.speed += increases_speed\n",
        "    print(\"maximum speed of the car is :\",str(self.speed))\n",
        "\n",
        "def main():\n",
        "  new_list=[]\n",
        "  car1 = Car_blueprint(\"green\",\"CEAT\",\"BMW\",789)\n",
        "  car2 = Car_blueprint(\"red\",\"MRF\",\"FERARRI\",987)"
      ],
      "metadata": {
        "id": "Z2bx5bo8tsRK"
      },
      "execution_count": null,
      "outputs": []
    },
    {
      "cell_type": "code",
      "source": [
        "class Movie_rating_blueprint:\n",
        "  def __init__(self,name,story_rating,actor_rating,music_rating,avg_rating):\n",
        "    self.name = name\n",
        "    self.story_rating = story_rating\n",
        "    self.actor_rating = actor_rating\n",
        "    self.music_rating = music_rating\n",
        "    self.avg_rating = avg_rating\n",
        "    self.ratings = {\n",
        "        \"name\":self.name,\n",
        "        \"Story Rating\":self.story_rating,\n",
        "        \"Actor Rating\":self.actor_rating,\n",
        "        \"Music Rating\":self.music_rating,\n",
        "        \"Average Rating\":self.avg_rating,\n",
        "    }\n",
        "  \n",
        "  def printing_rating(self):\n",
        "    print(\"Thanks for supporting through your reviews : \\n\",self.ratings)\n",
        "\n",
        "def main():\n",
        "  movie1 = Movie_rating_blueprint(\"john wick\",4,5,3,4)\n",
        "  movie1.printing_rating()\n",
        "  movie2 = Movie_rating_blueprint(\"3 idiots\",5,4,4,5)\n",
        "  movie2.printing_rating()\n",
        "main()"
      ],
      "metadata": {
        "id": "UZ3078o51fwE",
        "colab": {
          "base_uri": "https://localhost:8080/"
        },
        "outputId": "b0c5b9de-7c23-45f5-b1ee-2adafaa37beb"
      },
      "execution_count": null,
      "outputs": [
        {
          "output_type": "stream",
          "name": "stdout",
          "text": [
            "Thanks for supporting through your reviews : \n",
            " {'name': 'john wick', 'Story Rating': 4, 'Actor Rating': 5, 'Music Rating': 3, 'Average Rating': 4}\n",
            "Thanks for supporting through your reviews : \n",
            " {'name': '3 idiots', 'Story Rating': 5, 'Actor Rating': 4, 'Music Rating': 4, 'Average Rating': 5}\n"
          ]
        }
      ]
    }
  ]
}